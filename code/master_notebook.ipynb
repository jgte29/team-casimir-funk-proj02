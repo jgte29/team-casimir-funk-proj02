{
 "cells": [
  {
   "cell_type": "markdown",
   "id": "ee2e8165-d21b-42f8-b0da-b7a59f6356e2",
   "metadata": {},
   "source": [
    "# Team Casimir Funk Master Notebook\n",
    "In this notebook, we compile all of the finished products of code for this project."
   ]
  },
  {
   "cell_type": "markdown",
   "id": "12aa8bcf-efb2-4067-9a3e-75aca95b677f",
   "metadata": {
    "tags": []
   },
   "source": [
    "## Dietary Reference Intakes"
   ]
  },
  {
   "cell_type": "markdown",
   "id": "3adcf256-c292-4267-be97-4d7b99d66861",
   "metadata": {},
   "source": [
    "Using the interactive widget below, explore the different Dietary Reference Intakes for different age-sex groups put forth by the U.S. Departments of Health and Human Services (HHS) and Agriculture (USDA)."
   ]
  },
  {
   "cell_type": "code",
   "execution_count": 10,
   "id": "ce511a69-c71c-48dd-9007-b3be47f2974b",
   "metadata": {
    "tags": []
   },
   "outputs": [],
   "source": [
    "%run dietary_references.ipynb"
   ]
  },
  {
   "cell_type": "code",
   "execution_count": 44,
   "id": "6ee2b800-9c25-43eb-93a5-833e4503922c",
   "metadata": {
    "tags": []
   },
   "outputs": [],
   "source": [
    "dref_interactive_wrapper()"
   ]
  },
  {
   "cell_type": "markdown",
   "id": "ef5daa20-4241-4eb8-9586-ecf5dc264fdf",
   "metadata": {},
   "source": [
    "## Nutritional Content Lookup"
   ]
  },
  {
   "cell_type": "markdown",
   "id": "a1a854d9-45e8-4502-a945-4f1abc6531a2",
   "metadata": {},
   "source": [
    "In this section, explore you can explore the nutritional contents of various different food products from the USDA's *FoodData Central* database."
   ]
  },
  {
   "cell_type": "code",
   "execution_count": 67,
   "id": "5af592be-9996-4a7f-ad6d-42e07bd73362",
   "metadata": {
    "tags": []
   },
   "outputs": [],
   "source": [
    "%run nutritional_content.ipynb"
   ]
  },
  {
   "cell_type": "markdown",
   "id": "4e19b85c-ddab-4e81-8c78-21925f3bd5d9",
   "metadata": {},
   "source": [
    "### Enter API Key"
   ]
  },
  {
   "cell_type": "markdown",
   "id": "008cc64c-0f36-48b4-bc74-618fb201e57a",
   "metadata": {},
   "source": [
    "In order to access the USDA's database, you will need to sign up for an API Key, which you can do using this [link](https://fdc.nal.usda.gov/api-key-signup.html). Once you have one, replace the elipses below with your key. Alternatively, you can use `DEMO_KEY` for your API key, however, the rate limits are much lower when using this strategy (Hourly Limit: 30 requests per IP address per hour;\n",
    "Daily Limit: 50 requests per IP address per day). Your can learn more about rate limits [here](https://api.data.gov/docs/developer-manual/)."
   ]
  },
  {
   "cell_type": "code",
   "execution_count": 91,
   "id": "921ac81d-51d2-4372-95aa-ab6a2b89dfb1",
   "metadata": {
    "tags": []
   },
   "outputs": [],
   "source": [
    "api_key = ..."
   ]
  },
  {
   "cell_type": "markdown",
   "id": "ffa0c467-070a-4857-8701-46158a26579f",
   "metadata": {},
   "source": [
    "### Search Foods"
   ]
  },
  {
   "cell_type": "markdown",
   "id": "cc76085b-3891-4fe1-ad73-adb9701556c2",
   "metadata": {},
   "source": [
    "Enter keywords to search the USDA *FoodData Central* databae for the desired food product of your choice."
   ]
  },
  {
   "cell_type": "code",
   "execution_count": 89,
   "id": "05b6e2d2-c9e7-4d1a-817f-ec471f55c1fe",
   "metadata": {
    "tags": []
   },
   "outputs": [],
   "source": [
    "food_df_dict = interactive_query(api_key)"
   ]
  },
  {
   "cell_type": "markdown",
   "id": "07845658-aa03-4186-a999-e7da8655511c",
   "metadata": {
    "tags": []
   },
   "source": [
    "### Examine Nutritional Content"
   ]
  },
  {
   "cell_type": "markdown",
   "id": "7d8777be-74a7-4fdc-8543-72e724aa9443",
   "metadata": {},
   "source": [
    "To look at the individual nutritional contents of the food products from your prior search."
   ]
  },
  {
   "cell_type": "code",
   "execution_count": 87,
   "id": "95e6f762-d407-46b2-890a-5cbc66882d6a",
   "metadata": {
    "tags": []
   },
   "outputs": [],
   "source": [
    "interactive_get_nc(food_df_dict)"
   ]
  },
  {
   "cell_type": "markdown",
   "id": "4d2a75ee-d2b9-45a5-8b22-a4c3c54c8cd3",
   "metadata": {},
   "source": [
    "### Run Subsistence Diet Algorithm\n",
    "In the cell below, discover the different types of substinence diets that can be achieved by \"shopping\" at different stores. When using different stores & age-sex combinations, think about these questions:\n",
    "- How do the diets and prices of the diets change in response to these modifications?\n",
    "- What was the cheapest substinence diet you were able to create overall? What about for your sex-age combination?\n",
    "- Do the recommended diets seem appetizing to you?"
   ]
  },
  {
   "cell_type": "code",
   "execution_count": 84,
   "id": "0d8ae318-6b70-4eca-8e4d-6b0d60d9e15c",
   "metadata": {
    "tags": []
   },
   "outputs": [],
   "source": [
    "# interactive_run_alg()"
   ]
  },
  {
   "cell_type": "code",
   "execution_count": null,
   "id": "48244fad-4eba-49c6-b9d1-5f40982238fd",
   "metadata": {},
   "outputs": [],
   "source": []
  }
 ],
 "metadata": {
  "kernelspec": {
   "display_name": "Python 3 (ipykernel)",
   "language": "python",
   "name": "python3"
  },
  "language_info": {
   "codemirror_mode": {
    "name": "ipython",
    "version": 3
   },
   "file_extension": ".py",
   "mimetype": "text/x-python",
   "name": "python",
   "nbconvert_exporter": "python",
   "pygments_lexer": "ipython3",
   "version": "3.11.5"
  }
 },
 "nbformat": 4,
 "nbformat_minor": 5
}
