{
 "cells": [
  {
   "cell_type": "markdown",
   "id": "ee2e8165-d21b-42f8-b0da-b7a59f6356e2",
   "metadata": {},
   "source": [
    "# Team Casimir Funk Master Notebook\n",
    "This is where we will load in all of the subnotebooks"
   ]
  },
  {
   "cell_type": "code",
   "execution_count": null,
   "id": "3acedc37-f1a6-4215-8146-3195a1397007",
   "metadata": {},
   "outputs": [],
   "source": []
  }
 ],
 "metadata": {
  "kernelspec": {
   "display_name": "Python 3 (ipykernel)",
   "language": "python",
   "name": "python3"
  },
  "language_info": {
   "codemirror_mode": {
    "name": "ipython",
    "version": 3
   },
   "file_extension": ".py",
   "mimetype": "text/x-python",
   "name": "python",
   "nbconvert_exporter": "python",
   "pygments_lexer": "ipython3",
   "version": "3.11.5"
  }
 },
 "nbformat": 4,
 "nbformat_minor": 5
}
