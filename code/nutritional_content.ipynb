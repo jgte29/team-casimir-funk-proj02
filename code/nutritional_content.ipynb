{
 "cells": [
  {
   "cell_type": "code",
   "execution_count": 17,
   "id": "5cd667fb-43c8-48f0-adec-358768de5fed",
   "metadata": {
    "tags": []
   },
   "outputs": [],
   "source": [
    "import pandas as pd\n",
    "import numpy as np\n",
    "import seaborn as sns\n",
    "import matplotlib.pyplot as plt\n",
    "from ipywidgets import interact, interactive\n",
    "\n",
    "import requests\n",
    "from urllib.parse import quote\n",
    "import tkinter as tk\n",
    "from tkinter import ttk"
   ]
  },
  {
   "cell_type": "markdown",
   "id": "7e684c58-4423-4996-b88f-0aecb0138363",
   "metadata": {},
   "source": [
    "# Team Casimir Funk Nutritional Content Notebook\n",
    "In this notebook, we create the our nutritional content functions."
   ]
  },
  {
   "cell_type": "code",
   "execution_count": 172,
   "id": "3bbb1da6-63b1-48e1-9b79-f5e22d40d293",
   "metadata": {
    "tags": []
   },
   "outputs": [],
   "source": [
    "def handle_query(query, num_results = 10):\n",
    "    encoded_query = quote(search_query)\n",
    "    api_key = 'DEMO_KEY'\n",
    "    page_number = 1\n",
    "    page_size = num_results\n",
    "\n",
    "    url = f'https://api.nal.usda.gov/fdc/v1/foods/search?api_key={api_key}&query={encoded_query}&pageSize={page_size}&pageNumber={page_number}'\n",
    "    print(url)\n",
    "#     response = requests.get(url)\n",
    "\n",
    "#     if response.status_code == 200:\n",
    "#         data = response.json()\n",
    "#     else:\n",
    "#         print(f\"Error: {response.status_code}\")\n",
    "    \n",
    "#     food_df = pd.DataFrame(data['foods'])\n",
    "#     return food_df"
   ]
  },
  {
   "cell_type": "code",
   "execution_count": 174,
   "id": "ea0ac9b8-fe99-4d0c-9124-2701160f54c6",
   "metadata": {
    "tags": []
   },
   "outputs": [],
   "source": [
    "def get_nutritional_content(food_df, idx = 0, compuation = False):\n",
    "    detail_df = food_df.loc[idx, ['fdcId', 'description', 'brandOwner', 'brandName', 'marketCountry']]\n",
    "    detail_df.rename({0 : 'Details'}, inplace = True)\n",
    "    nutritional_df = pd.DataFrame(dummy.loc[idx, 'foodNutrients'])[['nutrientName', 'value', 'unitName', 'percentDailyValue']]\n",
    "    \n",
    "    if computation:\n",
    "        return nutritional_df\n",
    "    else:\n",
    "        display(detail_df)\n",
    "        display(nutritional_df)"
   ]
  },
  {
   "cell_type": "code",
   "execution_count": 176,
   "id": "3540a845-cf01-4379-8dfa-a88fae76fc73",
   "metadata": {
    "tags": []
   },
   "outputs": [],
   "source": [
    "# dummy = pd.DataFrame(data['foods'])\n",
    "# dummy"
   ]
  },
  {
   "cell_type": "code",
   "execution_count": 178,
   "id": "d5493650-b2f7-40b8-90fb-af5843c06410",
   "metadata": {
    "tags": []
   },
   "outputs": [],
   "source": [
    "# display(pd.DataFrame(dummy.loc[0, ['fdcId', 'description', 'brandOwner', 'brandName', 'marketCountry']].rename({0 : 'Details'})))"
   ]
  },
  {
   "cell_type": "code",
   "execution_count": 180,
   "id": "ad2f1af1-3175-434a-92d4-906c22e87872",
   "metadata": {
    "tags": []
   },
   "outputs": [],
   "source": [
    "# pd.DataFrame(dummy.loc[0, 'foodNutrients'])[['nutrientName', 'value', 'unitName', 'percentDailyValue']]"
   ]
  },
  {
   "cell_type": "code",
   "execution_count": 182,
   "id": "41d0fe81-e154-44eb-9d45-8a2db2bbe715",
   "metadata": {
    "tags": []
   },
   "outputs": [],
   "source": [
    "def interactive_query():\n",
    "    pass"
   ]
  },
  {
   "cell_type": "code",
   "execution_count": 184,
   "id": "028705db-4274-42ad-a351-f86231fbf60f",
   "metadata": {
    "tags": []
   },
   "outputs": [
    {
     "data": {
      "application/vnd.jupyter.widget-view+json": {
       "model_id": "433e4216032d4d8a857eca31c0a37493",
       "version_major": 2,
       "version_minor": 0
      },
      "text/plain": [
       "interactive(children=(Text(value='Cheddar Cheese', description='query'), Dropdown(description='num_results', o…"
      ]
     },
     "metadata": {},
     "output_type": "display_data"
    }
   ],
   "source": [
    "widget = interactive(handle_query, query = 'Cheddar Cheese',  num_results = [10])\n",
    "display(widget)\n",
    "# widget1 = interactive(handle_query, query = '',  num_results = [10])\n",
    "# display(widget1)"
   ]
  },
  {
   "cell_type": "code",
   "execution_count": null,
   "id": "c939705b-f8f1-4360-9c2b-5be6377b5409",
   "metadata": {},
   "outputs": [],
   "source": []
  }
 ],
 "metadata": {
  "kernelspec": {
   "display_name": "Python 3 (ipykernel)",
   "language": "python",
   "name": "python3"
  },
  "language_info": {
   "codemirror_mode": {
    "name": "ipython",
    "version": 3
   },
   "file_extension": ".py",
   "mimetype": "text/x-python",
   "name": "python",
   "nbconvert_exporter": "python",
   "pygments_lexer": "ipython3",
   "version": "3.11.5"
  }
 },
 "nbformat": 4,
 "nbformat_minor": 5
}
