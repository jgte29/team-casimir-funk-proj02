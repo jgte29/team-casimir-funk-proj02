{
 "cells": [
  {
   "cell_type": "code",
   "execution_count": 17,
   "id": "5cd667fb-43c8-48f0-adec-358768de5fed",
   "metadata": {
    "tags": []
   },
   "outputs": [],
   "source": [
    "import pandas as pd\n",
    "import numpy as np\n",
    "import seaborn as sns\n",
    "import matplotlib.pyplot as plt\n",
    "from ipywidgets import interact, interactive\n",
    "\n",
    "import requests\n",
    "from urllib.parse import quote\n",
    "import tkinter as tk\n",
    "from tkinter import ttk"
   ]
  },
  {
   "cell_type": "markdown",
   "id": "7e684c58-4423-4996-b88f-0aecb0138363",
   "metadata": {},
   "source": [
    "# Team Casimir Funk Nutritional Content Notebook\n",
    "In this notebook, we create the our nutritional content functions."
   ]
  },
  {
   "cell_type": "code",
   "execution_count": 20,
   "id": "bcd0edbc-0689-4f4f-9123-3087ee034b01",
   "metadata": {
    "tags": []
   },
   "outputs": [
    {
     "name": "stdout",
     "output_type": "stream",
     "text": [
      "Cheddar%20Cheese\n"
     ]
    }
   ],
   "source": [
    "search_query = \"Cheddar Cheese\"\n",
    "encoded_query = quote(search_query)\n",
    "\n",
    "print(encoded_query)"
   ]
  },
  {
   "cell_type": "code",
   "execution_count": 53,
   "id": "89cbf757-1587-4f9f-a1fe-cbd7064016d7",
   "metadata": {
    "tags": []
   },
   "outputs": [],
   "source": [
    "# api_key = 'DEMO_KEY'\n",
    "# query = 'Cheddar Cheese'\n",
    "# page_size = 10\n",
    "# page_number = 1\n",
    "\n",
    "# url = f'https://api.nal.usda.gov/fdc/v1/foods/search?api_key={api_key}&query={query}&pageSize={page_size}&pageNumber={page_number}'\n",
    "\n",
    "# response = requests.get(url)\n",
    "\n",
    "# if response.status_code == 200:\n",
    "#     data = response.json()\n",
    "# else:\n",
    "#     print(f\"Error: {response.status_code}\")"
   ]
  },
  {
   "cell_type": "code",
   "execution_count": 49,
   "id": "669db617-9063-46e9-bfde-405a730d0e18",
   "metadata": {
    "tags": []
   },
   "outputs": [],
   "source": [
    "# def create_scrollable_table(df, master):\n",
    "#     tree = ttk.Treeview(master)\n",
    "\n",
    "#     # Add columns to the treeview\n",
    "#     tree[\"columns\"] = list(df.columns)\n",
    "#     for col in df.columns:\n",
    "#         tree.column(col, anchor=\"w\")\n",
    "#         tree.heading(col, text=col, anchor=\"w\")\n",
    "\n",
    "#     # Add data to the treeview\n",
    "#     for i, row in df.iterrows():\n",
    "#         tree.insert(\"\", i, values=list(row))\n",
    "\n",
    "#     # Add a scrollbar\n",
    "#     scrollbar = ttk.Scrollbar(master, orient=\"vertical\", command=tree.yview)\n",
    "#     tree.configure(yscroll=scrollbar.set)\n",
    "\n",
    "#     # Pack everything\n",
    "#     tree.pack(side=\"left\", fill=\"both\", expand=True)\n",
    "#     scrollbar.pack(side=\"right\", fill=\"y\")\n",
    "\n",
    "# # Example usage:\n",
    "# # Assuming you have a DataFrame called 'df'\n",
    "# root = tk.Tk()\n",
    "# root.title(\"Scrollable Table Example\")\n",
    "\n",
    "# # Assuming df is your DataFrame\n",
    "# # You can replace df with your actual DataFrame\n",
    "# df = pd.DataFrame({\n",
    "#     'Name': ['John', 'Alice', 'Bob'],\n",
    "#     'Age': [25, 30, 22],\n",
    "#     'City': ['New York', 'San Francisco', 'Los Angeles']\n",
    "# })\n",
    "\n",
    "# create_scrollable_table(df, root)\n",
    "# root.mainloop()\n"
   ]
  },
  {
   "cell_type": "code",
   "execution_count": 55,
   "id": "3540a845-cf01-4379-8dfa-a88fae76fc73",
   "metadata": {
    "tags": []
   },
   "outputs": [],
   "source": [
    "dummy = pd.DataFrame(data['foods'])"
   ]
  },
  {
   "cell_type": "code",
   "execution_count": null,
   "id": "d5493650-b2f7-40b8-90fb-af5843c06410",
   "metadata": {},
   "outputs": [],
   "source": []
  }
 ],
 "metadata": {
  "kernelspec": {
   "display_name": "Python 3 (ipykernel)",
   "language": "python",
   "name": "python3"
  },
  "language_info": {
   "codemirror_mode": {
    "name": "ipython",
    "version": 3
   },
   "file_extension": ".py",
   "mimetype": "text/x-python",
   "name": "python",
   "nbconvert_exporter": "python",
   "pygments_lexer": "ipython3",
   "version": "3.11.5"
  }
 },
 "nbformat": 4,
 "nbformat_minor": 5
}
