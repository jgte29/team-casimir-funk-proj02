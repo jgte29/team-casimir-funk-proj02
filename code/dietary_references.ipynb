{
 "cells": [
  {
   "cell_type": "code",
   "execution_count": 320,
   "id": "eeabd985-c5d0-4e99-8b75-1c064399ccc7",
   "metadata": {
    "tags": []
   },
   "outputs": [],
   "source": [
    "import pandas as pd\n",
    "import numpy as np\n",
    "import seaborn as sns\n",
    "import matplotlib.pyplot as plt"
   ]
  },
  {
   "cell_type": "markdown",
   "id": "683988a4-d374-4bfa-9627-4b6b051d2a6f",
   "metadata": {
    "tags": []
   },
   "source": [
    "# Team Casimir Funk Dietary Reference Intakes Notebook\n",
    "In this notebook, we create the our dietary reference intakes functions."
   ]
  },
  {
   "cell_type": "code",
   "execution_count": 393,
   "id": "1ac7180e-3bba-4c03-aaf9-e0096816d900",
   "metadata": {
    "tags": []
   },
   "outputs": [],
   "source": [
    "def handle_query(age, sex):\n",
    "    '''\n",
    "    Description\n",
    "    --------------------------------------------------\n",
    "    This is a function to handle the Age & Sex Query \n",
    "    for our user.\n",
    "    \n",
    "    Inputs\n",
    "    --------------------------------------------------\n",
    "    + age : value that can be converted to an integer\n",
    "    + sex : string that is either Male or Female\n",
    "    \n",
    "    Outputs\n",
    "    --------------------------------------------------\n",
    "    + key : a key that corresponds to a column in\n",
    "            us_diet_minimums.csv\n",
    "    + diet_mins : a dataframe that holds the data \n",
    "            from us_diet_minimums.csv\n",
    "    '''\n",
    "    age = int(age)\n",
    "    sex = sex.title()\n",
    "    diet_mins = pd.read_csv('./data/us_diet_minimums.csv')\n",
    "    diet_mins.columns\n",
    "    \n",
    "    if (sex == 'Male' or sex == 'Female') and (age > 0):\n",
    "        s = sex[0]\n",
    "        age_cols = diet_mins.columns[2:]\n",
    "        ages = [ent.split(\" \")[1].replace(\"+\", \"\") for ent in age_cols]\n",
    "        ages = [ages[i] for i in range(len(ages)) if ages[i - 1] != ages[i]] # Removes duplicates\n",
    "        ages_min = np.array([int(age.split(\"-\")[0]) for age in ages])\n",
    "\n",
    "        age_range = ages[sum(ages_min <= age) - 1]\n",
    "        if age_range == '1-3':\n",
    "            s = 'C'\n",
    "        if age_range == '51':\n",
    "            age_range += '+'\n",
    "\n",
    "        key = f'{s} {age_range}'\n",
    "        return key, diet_mins\n",
    "    else:\n",
    "        return -29, diet_mins # -29 is error code for invalid inputs"
   ]
  },
  {
   "cell_type": "code",
   "execution_count": 395,
   "id": "08303add-9da5-4474-96c9-497e37bf641c",
   "metadata": {
    "tags": []
   },
   "outputs": [],
   "source": [
    "def get_drefs(key, diet_mins):\n",
    "    '''\n",
    "    Description\n",
    "    --------------------------------------------------\n",
    "    This is a function that returns the Dietary \n",
    "    References from us_diet_minimums.csv for the \n",
    "    user's desired age and sex\n",
    "    \n",
    "    Inputs\n",
    "    --------------------------------------------------\n",
    "    + key : a key that corresponds to a column in\n",
    "            us_diet_minimums.csv\n",
    "    + diet_mins : a dataframe that holds the data \n",
    "            from us_diet_minimums.csv\n",
    "    \n",
    "    Outputs\n",
    "    --------------------------------------------------\n",
    "    + drefs : the dietary reference intakes from \n",
    "            us_diet_minimums.csv for the  user's desired age \n",
    "            and sex\n",
    "    '''\n",
    "    if key != -29:\n",
    "        drefs = diet_mins[['Nutrition', key]].set_index('Nutrition')\n",
    "        return drefs\n",
    "    else:\n",
    "        return -29 # -29 is error code for invalid inputs"
   ]
  },
  {
   "cell_type": "code",
   "execution_count": 397,
   "id": "a36ce753-29ca-4487-a500-08e82ea638dc",
   "metadata": {
    "tags": []
   },
   "outputs": [],
   "source": [
    "def dref_wrapper(age, sex):\n",
    "    '''\n",
    "    Description\n",
    "    --------------------------------------------------\n",
    "    This is a wrapper function that combines the\n",
    "    functionality of handle_query() & get_drefs()\n",
    "\n",
    "    Inputs\n",
    "    --------------------------------------------------\n",
    "    + age : value that can be converted to an integer\n",
    "    + sex : string that is either Male or Female\n",
    "    \n",
    "    Outputs\n",
    "    --------------------------------------------------\n",
    "    + drefs : the dietary reference intakes from \n",
    "            us_diet_minimums.csv for the  user's \n",
    "            desired age and sex\n",
    "    '''\n",
    "    key, diet_mins = handle_query(age, sex)\n",
    "    drefs = get_drefs(key, diet_mins)\n",
    "    if type(drefs) != int:\n",
    "        return drefs\n",
    "    else:\n",
    "        print('Enter a Valid Age and Sex')\n",
    "        return -29 # -29 is error code for invalid inputs"
   ]
  },
  {
   "cell_type": "code",
   "execution_count": 399,
   "id": "acba1a50-ca75-4837-a375-4d6b224fca97",
   "metadata": {
    "tags": []
   },
   "outputs": [],
   "source": [
    "def compare_groups(groups):\n",
    "    '''\n",
    "    Description\n",
    "    --------------------------------------------------\n",
    "    This is a function that allows the user to compare\n",
    "    the dietary reference intakes for different \n",
    "    groups.\n",
    "\n",
    "    Inputs\n",
    "    --------------------------------------------------\n",
    "    + groups : a list of (age, sex) tuples where age\n",
    "            is a value that can be converted to \n",
    "            an integer and sex is a string that is \n",
    "            either Male or Female\n",
    "    \n",
    "    Outputs\n",
    "    --------------------------------------------------\n",
    "    + comp_df : the dietary reference intakes from \n",
    "            us_diet_minimums.csv for the  user's \n",
    "            desired groups\n",
    "    '''\n",
    "    # Empty dataframe that we will add our groups to compare\n",
    "    comp_df = pd.DataFrame()\n",
    "    valid_groups = True\n",
    "    \n",
    "    for group in groups:\n",
    "        drefs = dref_wrapper(group[0], group[1])\n",
    "        if type(drefs) == int:\n",
    "            print(f'Invalid Group: Age = {group[0]}; Sex = {group[1]}')\n",
    "            valid_groups = False\n",
    "            break\n",
    "        else:\n",
    "            col = drefs.columns[0]\n",
    "            comp_df[col] = drefs[col]\n",
    "    \n",
    "    if valid_groups: # Only returns comp_df if all groups valid\n",
    "        return comp_df\n",
    "    else:\n",
    "        return -29 # -29 is error code for invalid inputs"
   ]
  },
  {
   "cell_type": "code",
   "execution_count": 401,
   "id": "cc20b4fd-34f5-4712-a054-ec3c8aabd9d2",
   "metadata": {
    "tags": []
   },
   "outputs": [
    {
     "name": "stdout",
     "output_type": "stream",
     "text": [
      "Enter a Valid Age and Sex\n"
     ]
    },
    {
     "data": {
      "text/plain": [
       "-29"
      ]
     },
     "execution_count": 401,
     "metadata": {},
     "output_type": "execute_result"
    }
   ],
   "source": [
    "dref_wrapper(age = -2, sex = 'Male')"
   ]
  },
  {
   "cell_type": "code",
   "execution_count": null,
   "id": "a1cdf1f9-57bf-4100-a1fa-bbe0baf7a199",
   "metadata": {},
   "outputs": [],
   "source": []
  }
 ],
 "metadata": {
  "kernelspec": {
   "display_name": "Python 3 (ipykernel)",
   "language": "python",
   "name": "python3"
  },
  "language_info": {
   "codemirror_mode": {
    "name": "ipython",
    "version": 3
   },
   "file_extension": ".py",
   "mimetype": "text/x-python",
   "name": "python",
   "nbconvert_exporter": "python",
   "pygments_lexer": "ipython3",
   "version": "3.11.5"
  }
 },
 "nbformat": 4,
 "nbformat_minor": 5
}
