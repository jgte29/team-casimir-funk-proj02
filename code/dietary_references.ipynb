{
 "cells": [
  {
   "cell_type": "code",
   "execution_count": 10,
   "id": "eeabd985-c5d0-4e99-8b75-1c064399ccc7",
   "metadata": {
    "tags": []
   },
   "outputs": [],
   "source": [
    "import pandas as pd\n",
    "import numpy as np"
   ]
  },
  {
   "cell_type": "markdown",
   "id": "683988a4-d374-4bfa-9627-4b6b051d2a6f",
   "metadata": {
    "tags": []
   },
   "source": [
    "# Team Casimir Funk Dietary References Notebook\n",
    "In this notebook, we create the our us_diet_minimums.csvdietary references function"
   ]
  },
  {
   "cell_type": "code",
   "execution_count": 13,
   "id": "1ac7180e-3bba-4c03-aaf9-e0096816d900",
   "metadata": {
    "tags": []
   },
   "outputs": [],
   "source": [
    "def handle_query(age, sex):\n",
    "    ### This is a function to handle the Age & Sex Query for our user\n",
    "    return key"
   ]
  },
  {
   "cell_type": "code",
   "execution_count": 29,
   "id": "08303add-9da5-4474-96c9-497e37bf641c",
   "metadata": {
    "tags": []
   },
   "outputs": [
    {
     "data": {
      "text/plain": [
       "['1-3',\n",
       " '4-8',\n",
       " '4-8',\n",
       " '9-13',\n",
       " '9-13',\n",
       " '14-18',\n",
       " '14-18',\n",
       " '19-30',\n",
       " '19-30',\n",
       " '31-50',\n",
       " '31-50',\n",
       " '51',\n",
       " '51']"
      ]
     },
     "execution_count": 29,
     "metadata": {},
     "output_type": "execute_result"
    }
   ],
   "source": [
    "diet_mins = pd.read_csv('./data/us_diet_minimums.csv')\n",
    "diet_mins.columns\n",
    "\n",
    "age_cols = diet_mins.columns[2:]\n",
    "ages = [ent.split(\" \")[1].replace(\"+\", \"\") for ent in age_cols]\n",
    "ages_min = [int(age.split(\"-\")[1]) for age]"
   ]
  },
  {
   "cell_type": "code",
   "execution_count": null,
   "id": "b8eef74d-6ce4-42fd-afd8-3dc6924621ce",
   "metadata": {},
   "outputs": [],
   "source": []
  }
 ],
 "metadata": {
  "kernelspec": {
   "display_name": "Python 3 (ipykernel)",
   "language": "python",
   "name": "python3"
  },
  "language_info": {
   "codemirror_mode": {
    "name": "ipython",
    "version": 3
   },
   "file_extension": ".py",
   "mimetype": "text/x-python",
   "name": "python",
   "nbconvert_exporter": "python",
   "pygments_lexer": "ipython3",
   "version": "3.11.5"
  }
 },
 "nbformat": 4,
 "nbformat_minor": 5
}
