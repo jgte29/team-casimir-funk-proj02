{
 "cells": [
  {
   "cell_type": "code",
   "execution_count": 645,
   "id": "5cd667fb-43c8-48f0-adec-358768de5fed",
   "metadata": {
    "tags": []
   },
   "outputs": [],
   "source": [
    "import pandas as pd\n",
    "import numpy as np\n",
    "import seaborn as sns\n",
    "import matplotlib.pyplot as plt\n",
    "from ipywidgets import interact, interactive, widgets\n",
    "import requests\n",
    "from urllib.parse import quote\n",
    "\n",
    "import config # Imports a private API Key to test the functions"
   ]
  },
  {
   "cell_type": "markdown",
   "id": "7e684c58-4423-4996-b88f-0aecb0138363",
   "metadata": {
    "tags": []
   },
   "source": [
    "# Team Casimir Funk Nutritional Content Notebook\n",
    "In this notebook, we create the our nutritional content functions."
   ]
  },
  {
   "cell_type": "code",
   "execution_count": 640,
   "id": "3bbb1da6-63b1-48e1-9b79-f5e22d40d293",
   "metadata": {
    "tags": []
   },
   "outputs": [],
   "source": [
    "def handle_query(query, food_df_dict, api_key, num_results = 10):\n",
    "    '''\n",
    "    Description\n",
    "    --------------------------------------------------\n",
    "    This is a function to handle the Food Query\n",
    "    for our user.\n",
    "    \n",
    "    Inputs\n",
    "    --------------------------------------------------\n",
    "    + query : string; keywords to search the USDA \n",
    "            FoodData Central API for the user's\n",
    "            desired food product\n",
    "    + food_df_dict : dictionary; allows for food_df\n",
    "            to be implemented and updated in \n",
    "            different functions\n",
    "    + api_key : string; user's FoodData Central API\n",
    "            key\n",
    "    + num_results : integer; the number of results \n",
    "            the user wants in their query\n",
    "    \n",
    "    Outputs\n",
    "    --------------------------------------------------\n",
    "    + food_df is displayed\n",
    "    '''\n",
    "    encoded_query = quote(query)\n",
    "    page_number = 1\n",
    "    page_size = num_results\n",
    "\n",
    "    url = f'https://api.nal.usda.gov/fdc/v1/foods/search?api_key={api_key}&query={encoded_query}&pageSize={page_size}&pageNumber={page_number}'\n",
    "\n",
    "    response = requests.get(url)\n",
    "\n",
    "    if response.status_code == 200:\n",
    "        data = response.json()\n",
    "    else:\n",
    "        print(f\"Error: {response.status_code}\")\n",
    "    \n",
    "    food_df = pd.DataFrame(data['foods'])\n",
    "    \n",
    "    food_df_dict['food_df'] = food_df\n",
    "    display(food_df.iloc[:, :10])"
   ]
  },
  {
   "cell_type": "code",
   "execution_count": 631,
   "id": "ea0ac9b8-fe99-4d0c-9124-2701160f54c6",
   "metadata": {
    "tags": []
   },
   "outputs": [],
   "source": [
    "def get_nutritional_content(food_df, idx = 0, computation = False):\n",
    "    '''\n",
    "    Description\n",
    "    --------------------------------------------------\n",
    "    This is a function to let the user see the details\n",
    "    (detail_df) and nutritional contents \n",
    "    (nutritional_df) of individual food products.\n",
    "    \n",
    "    Inputs\n",
    "    --------------------------------------------------\n",
    "    + food_df : pandas dataframe; contains all the\n",
    "            details & nutritional information for the\n",
    "            different food products\n",
    "    + idx : integer; corresponds to the row index of\n",
    "            food product the user want to look at\n",
    "    + computation : boolean; determines whether the\n",
    "            detail_df & nutritional_df should be \n",
    "            displayed (important for the widget), or\n",
    "            if the nutritional_df should be returned\n",
    "            (for the projects data analysis section)\n",
    "    \n",
    "    Outputs\n",
    "    --------------------------------------------------\n",
    "    compuation = False : \n",
    "    + detail_df & nutritional_df are displayed\n",
    "    compuation = True : \n",
    "    + nutritional_df : pandas dataframe; nutritional\n",
    "            content of a single food product of \n",
    "            interest\n",
    "    '''\n",
    "    desired_cols = ['fdcId', 'description', 'brandOwner', 'brandName', 'marketCountry']\n",
    "    avail_cols = [col for col in desired_cols if col in food_df.columns]\n",
    "    \n",
    "    detail_df = pd.DataFrame(food_df.loc[idx, avail_cols])\n",
    "    detail_df.rename(columns = {idx : 'Details'}, inplace = True)\n",
    "    \n",
    "    \n",
    "    nutritional_df = pd.DataFrame(food_df.loc[idx, 'foodNutrients'])\n",
    "    \n",
    "    desired_cols2 = ['nutrientName', 'value', 'unitName', 'percentDailyValue']\n",
    "    avail_cols2 = [col for col in desired_cols2 if col in nutritional_df.columns]\n",
    "    nutritional_df = nutritional_df[avail_cols2]\n",
    "    \n",
    "    if computation:\n",
    "        return nutritional_df\n",
    "    else:\n",
    "        display(detail_df)\n",
    "        display(nutritional_df)"
   ]
  },
  {
   "cell_type": "code",
   "execution_count": 633,
   "id": "41d0fe81-e154-44eb-9d45-8a2db2bbe715",
   "metadata": {
    "tags": []
   },
   "outputs": [],
   "source": [
    "def interactive_query(api_key):\n",
    "    '''\n",
    "    Description\n",
    "    --------------------------------------------------\n",
    "    This is a function that makes handle_query()\n",
    "    interactive.\n",
    "\n",
    "    Inputs\n",
    "    --------------------------------------------------\n",
    "    + api_key : string; user's FoodData Central API\n",
    "            key\n",
    "    \n",
    "    Outputs\n",
    "    --------------------------------------------------\n",
    "    + food_df_dict : dictionary; allows for food_df\n",
    "            to be implemented and updated in \n",
    "            different functions\n",
    "    '''\n",
    "    food_df_dict = {}\n",
    "    widget = interactive(handle_query, \n",
    "                               food_df_dict = widgets.fixed(food_df_dict),\n",
    "                               query = widgets.Text(description='Enter Query Here'),  \n",
    "                               num_results = (1, 20, 1),\n",
    "                               api_key = widgets.fixed(api_key)\n",
    "                        )\n",
    "    display(widget)\n",
    "    return food_df_dict"
   ]
  },
  {
   "cell_type": "code",
   "execution_count": 636,
   "id": "2408ddeb-6aed-4e9d-9328-1841e3307372",
   "metadata": {
    "tags": []
   },
   "outputs": [],
   "source": [
    "def interactive_get_nc(food_df_dict):\n",
    "    '''\n",
    "    Description\n",
    "    --------------------------------------------------\n",
    "    This is a function that makes \n",
    "    get_nutritional_content() interactive.\n",
    "\n",
    "    Inputs\n",
    "    --------------------------------------------------\n",
    "    + food_df_dict : dictionary; allows for food_df\n",
    "            to be implemented and updated in \n",
    "            different functions\n",
    "    \n",
    "    Outputs\n",
    "    --------------------------------------------------\n",
    "    + Interactive widget is displayed\n",
    "    '''\n",
    "    widget = interactive(get_nutritional_content, food_df = widgets.fixed(food_df_dict['food_df']), \n",
    "                  idx = widgets.IntSlider(value = 0, min = 0, max = len(food_df_dict['food_df']) - 1, step = 1, description='Food Index'), \n",
    "                         computation = widgets.fixed(False)\n",
    "                        )\n",
    "    display(widget)"
   ]
  }
 ],
 "metadata": {
  "kernelspec": {
   "display_name": "Python 3 (ipykernel)",
   "language": "python",
   "name": "python3"
  },
  "language_info": {
   "codemirror_mode": {
    "name": "ipython",
    "version": 3
   },
   "file_extension": ".py",
   "mimetype": "text/x-python",
   "name": "python",
   "nbconvert_exporter": "python",
   "pygments_lexer": "ipython3",
   "version": "3.11.5"
  }
 },
 "nbformat": 4,
 "nbformat_minor": 5
}
