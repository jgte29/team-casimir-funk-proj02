{
 "cells": [
  {
   "cell_type": "code",
   "execution_count": 1,
   "id": "5cd667fb-43c8-48f0-adec-358768de5fed",
   "metadata": {
    "tags": []
   },
   "outputs": [],
   "source": [
    "import pandas as pd\n",
    "import numpy as np\n",
    "import seaborn as sns\n",
    "import matplotlib.pyplot as plt\n",
    "from ipywidgets import interact, interactive, widgets\n",
    "\n",
    "import requests\n",
    "from urllib.parse import quote\n",
    "import tkinter as tk\n",
    "from tkinter import ttk\n",
    "\n",
    "import config # Imports my private API Key"
   ]
  },
  {
   "cell_type": "markdown",
   "id": "7e684c58-4423-4996-b88f-0aecb0138363",
   "metadata": {},
   "source": [
    "# Team Casimir Funk Nutritional Content Notebook\n",
    "In this notebook, we create the our nutritional content functions."
   ]
  },
  {
   "cell_type": "code",
   "execution_count": 154,
   "id": "3bbb1da6-63b1-48e1-9b79-f5e22d40d293",
   "metadata": {
    "tags": []
   },
   "outputs": [],
   "source": [
    "def handle_query(query, num_results = 10, api_key = config.API_KEY, see_query_results = True):\n",
    "    encoded_query = quote(query)\n",
    "    page_number = 1\n",
    "    page_size = num_results\n",
    "\n",
    "    url = f'https://api.nal.usda.gov/fdc/v1/foods/search?api_key={api_key}&query={encoded_query}&pageSize={page_size}&pageNumber={page_number}'\n",
    "\n",
    "    response = requests.get(url)\n",
    "\n",
    "    if response.status_code == 200:\n",
    "        data = response.json()\n",
    "    else:\n",
    "        print(f\"Error: {response.status_code}\")\n",
    "    \n",
    "    food_df = pd.DataFrame(data['foods'])\n",
    "    \n",
    "    if see_query_results:\n",
    "        display(food_df)\n",
    "    return food_df, see_query_results"
   ]
  },
  {
   "cell_type": "code",
   "execution_count": 156,
   "id": "ea0ac9b8-fe99-4d0c-9124-2701160f54c6",
   "metadata": {
    "tags": []
   },
   "outputs": [],
   "source": [
    "def get_nutritional_content(food_df, idx = 0, computation = False):\n",
    "    desired_cols = ['fdcId', 'description', 'brandOwner', 'brandName', 'marketCountry']\n",
    "    avail_cols = [col for col in desired_cols if col in food_df.columns]\n",
    "    \n",
    "    detail_df = pd.DataFrame(food_df.loc[idx, avail_cols])\n",
    "    detail_df.rename(columns = {idx : 'Details'}, inplace = True)\n",
    "    \n",
    "    \n",
    "    nutritional_df = pd.DataFrame(food_df.loc[idx, 'foodNutrients'])\n",
    "    \n",
    "    desired_cols2 = ['nutrientName', 'value', 'unitName', 'percentDailyValue']\n",
    "    avail_cols2 = [col for col in desired_cols2 if col in nutritional_df.columns]\n",
    "    nutritional_df = nutritional_df[avail_cols2]\n",
    "    \n",
    "    if computation:\n",
    "        return nutritional_df\n",
    "    else:\n",
    "        display(detail_df)\n",
    "        display(nutritional_df)"
   ]
  },
  {
   "cell_type": "code",
   "execution_count": 158,
   "id": "41d0fe81-e154-44eb-9d45-8a2db2bbe715",
   "metadata": {
    "tags": []
   },
   "outputs": [],
   "source": [
    "def interactive_query():\n",
    "    pass"
   ]
  },
  {
   "cell_type": "code",
   "execution_count": null,
   "id": "0fee7bc3-1bdc-4731-87e3-37484e6c4a9c",
   "metadata": {},
   "outputs": [],
   "source": [
    "widget = interactive(handle_query, \n",
    "                     query = 'Type Query Here',  \n",
    "                     num_results = (1, 20, 1),\n",
    "                     see_query_results = widgets.Checkbox(value=False, description='See Query Results'),\n",
    "                     api_key = widgets.fixed(config.API_KEY))\n",
    "display(widget)"
   ]
  },
  {
   "cell_type": "code",
   "execution_count": 160,
   "id": "7294fd67-80ca-4e7e-b59f-347cec633a56",
   "metadata": {
    "tags": []
   },
   "outputs": [],
   "source": [
    "result_df = widget.result[0]"
   ]
  },
  {
   "cell_type": "code",
   "execution_count": 151,
   "id": "e869f409-3735-4d16-b4ae-a32674753530",
   "metadata": {},
   "outputs": [
    {
     "data": {
      "application/vnd.jupyter.widget-view+json": {
       "model_id": "d46a24e379ab49e7b2cb54280eceea94",
       "version_major": 2,
       "version_minor": 0
      },
      "text/plain": [
       "interactive(children=(IntSlider(value=0, description='idx', max=9), Output()), _dom_classes=('widget-interact'…"
      ]
     },
     "metadata": {},
     "output_type": "display_data"
    }
   ],
   "source": [
    "widget1 = interactive(get_nutritional_content, food_df = widgets.fixed(result_df), \n",
    "                      idx = (0, len(result_df) - 1, 1), computation = widgets.fixed(False))\n",
    "display(widget1)"
   ]
  },
  {
   "cell_type": "code",
   "execution_count": null,
   "id": "b2024e8f-2620-4038-b608-148d906085f5",
   "metadata": {},
   "outputs": [],
   "source": []
  }
 ],
 "metadata": {
  "kernelspec": {
   "display_name": "Python 3 (ipykernel)",
   "language": "python",
   "name": "python3"
  },
  "language_info": {
   "codemirror_mode": {
    "name": "ipython",
    "version": 3
   },
   "file_extension": ".py",
   "mimetype": "text/x-python",
   "name": "python",
   "nbconvert_exporter": "python",
   "pygments_lexer": "ipython3",
   "version": "3.11.5"
  }
 },
 "nbformat": 4,
 "nbformat_minor": 5
}
