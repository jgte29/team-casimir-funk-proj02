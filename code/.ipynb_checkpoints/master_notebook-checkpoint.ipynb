{
 "cells": [
  {
   "cell_type": "markdown",
   "id": "ee2e8165-d21b-42f8-b0da-b7a59f6356e2",
   "metadata": {},
   "source": [
    "# Team Casimir Funk Master Notebook\n",
    "In this notebook, we compile all of the finished products of code for this project."
   ]
  },
  {
   "cell_type": "markdown",
   "id": "12aa8bcf-efb2-4067-9a3e-75aca95b677f",
   "metadata": {
    "tags": []
   },
   "source": [
    "## Dietary Reference Intakes"
   ]
  },
  {
   "cell_type": "markdown",
   "id": "3adcf256-c292-4267-be97-4d7b99d66861",
   "metadata": {},
   "source": [
    "Using the interactive widget below, explore the different Dietary Reference Intakes for different age-sex groups put forth by the U.S. Departments of Health and Human Services (HHS) and Agriculture (USDA)."
   ]
  },
  {
   "cell_type": "code",
   "execution_count": 18,
   "id": "ce511a69-c71c-48dd-9007-b3be47f2974b",
   "metadata": {
    "tags": []
   },
   "outputs": [
    {
     "data": {
      "application/vnd.jupyter.widget-view+json": {
       "model_id": "e7579d0596f743d491b65d66dced1181",
       "version_major": 2,
       "version_minor": 0
      },
      "text/plain": [
       "interactive(children=(Dropdown(description='Mode', options=('Get Dietary Reference Intakes', 'Compare Groups')…"
      ]
     },
     "metadata": {},
     "output_type": "display_data"
    }
   ],
   "source": [
    "%run dietary_references.ipynb"
   ]
  },
  {
   "cell_type": "code",
   "execution_count": null,
   "id": "21a59eb7-4775-4291-892a-d02de45a7f2d",
   "metadata": {},
   "outputs": [],
   "source": []
  }
 ],
 "metadata": {
  "kernelspec": {
   "display_name": "Python 3 (ipykernel)",
   "language": "python",
   "name": "python3"
  },
  "language_info": {
   "codemirror_mode": {
    "name": "ipython",
    "version": 3
   },
   "file_extension": ".py",
   "mimetype": "text/x-python",
   "name": "python",
   "nbconvert_exporter": "python",
   "pygments_lexer": "ipython3",
   "version": "3.11.5"
  }
 },
 "nbformat": 4,
 "nbformat_minor": 5
}
