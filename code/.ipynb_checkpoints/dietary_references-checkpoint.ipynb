{
 "cells": [
  {
   "cell_type": "code",
   "execution_count": 10,
   "id": "eeabd985-c5d0-4e99-8b75-1c064399ccc7",
   "metadata": {
    "tags": []
   },
   "outputs": [],
   "source": [
    "import pandas as pd\n",
    "import numpy as np"
   ]
  },
  {
   "cell_type": "markdown",
   "id": "683988a4-d374-4bfa-9627-4b6b051d2a6f",
   "metadata": {
    "tags": []
   },
   "source": [
    "# Team Casimir Funk Dietary References Notebook\n",
    "In this notebook, we create the our us_diet_minimums.csvdietary references function"
   ]
  },
  {
   "cell_type": "code",
   "execution_count": 312,
   "id": "1ac7180e-3bba-4c03-aaf9-e0096816d900",
   "metadata": {
    "tags": []
   },
   "outputs": [],
   "source": [
    "def handle_query(age, sex):\n",
    "    ### \n",
    "    '''\n",
    "    Description\n",
    "    --------------------------------------------------\n",
    "    This is a function to handle the Age & Sex Query \n",
    "    for our user.\n",
    "    \n",
    "    Inputs\n",
    "    --------------------------------------------------\n",
    "    + age : value that can be converted to an integer\n",
    "    + sex : string that is either Male or Female\n",
    "    \n",
    "    Outputs\n",
    "    --------------------------------------------------\n",
    "    + key : a key that corresponds to a column in\n",
    "            us_diet_minimums.csv\n",
    "    + diet_mins : a dataframe that holds the data \n",
    "            from us_diet_minimums.csv\n",
    "    '''\n",
    "    age = int(age)\n",
    "    sex = sex.title()\n",
    "    diet_mins = pd.read_csv('./data/us_diet_minimums.csv')\n",
    "    diet_mins.columns\n",
    "    \n",
    "    if (sex == 'Male' or sex == 'Female') and (age > 0):\n",
    "        s = sex[0]\n",
    "        age_cols = diet_mins.columns[2:]\n",
    "        ages = [ent.split(\" \")[1].replace(\"+\", \"\") for ent in age_cols]\n",
    "        ages = [ages[i] for i in range(len(ages)) if ages[i - 1] != ages[i]] # Removes duplicates\n",
    "        ages_min = np.array([int(age.split(\"-\")[0]) for age in ages])\n",
    "\n",
    "        age_range = ages[sum(ages_min <= age) - 1]\n",
    "        if age_range == '1-3':\n",
    "            s = 'C'\n",
    "        if age_range == '51':\n",
    "            age_range += '+'\n",
    "\n",
    "        key = f'{s} {age_range}'\n",
    "        return key, diet_mins\n",
    "    else:\n",
    "        return -29, diet_mins"
   ]
  },
  {
   "cell_type": "code",
   "execution_count": 314,
   "id": "08303add-9da5-4474-96c9-497e37bf641c",
   "metadata": {
    "tags": []
   },
   "outputs": [],
   "source": [
    "def get_drefs(key, diet_mins):\n",
    "    '''\n",
    "    Description\n",
    "    --------------------------------------------------\n",
    "    This is a function that returns the Dietary \n",
    "    References from us_diet_minimums.csv for the \n",
    "    user's desired age and sex\n",
    "    \n",
    "    Inputs\n",
    "    --------------------------------------------------\n",
    "    + key : a key that corresponds to a column in\n",
    "            us_diet_minimums.csv\n",
    "    + diet_mins : a dataframe that holds the data \n",
    "            from us_diet_minimums.csv\n",
    "    \n",
    "    Outputs\n",
    "    --------------------------------------------------\n",
    "    + drefs : the Dietary References from \n",
    "            us_diet_minimums.csv for the  user's desired age \n",
    "            and sex\n",
    "    '''\n",
    "    if key != -29:\n",
    "        drefs = diet_mins[['Nutrition', 'Source', key]]\n",
    "        return drefs\n",
    "    else:\n",
    "        print('Enter a Valid Age and Sex')\n",
    "        return -1"
   ]
  },
  {
   "cell_type": "code",
   "execution_count": 316,
   "id": "b8eef74d-6ce4-42fd-afd8-3dc6924621ce",
   "metadata": {
    "tags": []
   },
   "outputs": [
    {
     "name": "stdout",
     "output_type": "stream",
     "text": [
      "Enter a Valid Age and Sex\n"
     ]
    },
    {
     "data": {
      "text/plain": [
       "-1"
      ]
     },
     "execution_count": 316,
     "metadata": {},
     "output_type": "execute_result"
    }
   ],
   "source": [
    "key, diet_mins = handle_query(age = -29, sex = 'Male')\n",
    "drefs = get_drefs(key, diet_mins)\n",
    "drefs"
   ]
  },
  {
   "cell_type": "code",
   "execution_count": null,
   "id": "57818b4f-0cb9-4b5b-abc7-a42b49618237",
   "metadata": {},
   "outputs": [],
   "source": []
  }
 ],
 "metadata": {
  "kernelspec": {
   "display_name": "Python 3 (ipykernel)",
   "language": "python",
   "name": "python3"
  },
  "language_info": {
   "codemirror_mode": {
    "name": "ipython",
    "version": 3
   },
   "file_extension": ".py",
   "mimetype": "text/x-python",
   "name": "python",
   "nbconvert_exporter": "python",
   "pygments_lexer": "ipython3",
   "version": "3.11.5"
  }
 },
 "nbformat": 4,
 "nbformat_minor": 5
}
