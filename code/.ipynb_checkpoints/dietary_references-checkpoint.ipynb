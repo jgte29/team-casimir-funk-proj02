{
 "cells": [
  {
   "cell_type": "markdown",
   "id": "e484c102-9069-4011-8d77-aa3a00fad259",
   "metadata": {},
   "source": [
    "# Team Casimir Funk Dietary References Notebook\n",
    "In this notebook, we create the our dietary references function"
   ]
  },
  {
   "cell_type": "code",
   "execution_count": null,
   "id": "1ac7180e-3bba-4c03-aaf9-e0096816d900",
   "metadata": {},
   "outputs": [],
   "source": []
  }
 ],
 "metadata": {
  "kernelspec": {
   "display_name": "Python 3 (ipykernel)",
   "language": "python",
   "name": "python3"
  },
  "language_info": {
   "codemirror_mode": {
    "name": "ipython",
    "version": 3
   },
   "file_extension": ".py",
   "mimetype": "text/x-python",
   "name": "python",
   "nbconvert_exporter": "python",
   "pygments_lexer": "ipython3",
   "version": "3.11.5"
  }
 },
 "nbformat": 4,
 "nbformat_minor": 5
}
